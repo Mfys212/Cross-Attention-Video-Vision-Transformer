{
  "nbformat": 4,
  "nbformat_minor": 0,
  "metadata": {
    "colab": {
      "provenance": [],
      "gpuType": "T4",
      "authorship_tag": "ABX9TyPEvt+AZitjH4bZw8fGISIP",
      "include_colab_link": true
    },
    "kernelspec": {
      "name": "python3",
      "display_name": "Python 3"
    },
    "language_info": {
      "name": "python"
    },
    "accelerator": "GPU"
  },
  "cells": [
    {
      "cell_type": "markdown",
      "metadata": {
        "id": "view-in-github",
        "colab_type": "text"
      },
      "source": [
        "<a href=\"https://colab.research.google.com/github/Mfys212/Transformer/blob/main/Tutorial.ipynb\" target=\"_parent\"><img src=\"https://colab.research.google.com/assets/colab-badge.svg\" alt=\"Open In Colab\"/></a>"
      ]
    },
    {
      "cell_type": "markdown",
      "source": [
        "# Clone Repository"
      ],
      "metadata": {
        "id": "05xPnJthTc9A"
      }
    },
    {
      "cell_type": "code",
      "execution_count": null,
      "metadata": {
        "colab": {
          "base_uri": "https://localhost:8080/"
        },
        "id": "NJW7vxvoRM10",
        "outputId": "da7e59b2-cc01-4d9f-a488-286e7bbedeb2"
      },
      "outputs": [
        {
          "output_type": "stream",
          "name": "stdout",
          "text": [
            "Cloning into 'Transformer'...\n",
            "remote: Enumerating objects: 166, done.\u001b[K\n",
            "remote: Counting objects: 100% (166/166), done.\u001b[K\n",
            "remote: Compressing objects: 100% (153/153), done.\u001b[K\n",
            "remote: Total 166 (delta 71), reused 6 (delta 0), pack-reused 0 (from 0)\u001b[K\n",
            "Receiving objects: 100% (166/166), 117.20 KiB | 944.00 KiB/s, done.\n",
            "Resolving deltas: 100% (71/71), done.\n",
            "Collecting rouge_score (from -r /content/Transformer/requirements.txt (line 1))\n",
            "  Downloading rouge_score-0.1.2.tar.gz (17 kB)\n",
            "  Preparing metadata (setup.py) ... \u001b[?25l\u001b[?25hdone\n",
            "Requirement already satisfied: absl-py in /usr/local/lib/python3.10/dist-packages (from rouge_score->-r /content/Transformer/requirements.txt (line 1)) (1.4.0)\n",
            "Requirement already satisfied: nltk in /usr/local/lib/python3.10/dist-packages (from rouge_score->-r /content/Transformer/requirements.txt (line 1)) (3.9.1)\n",
            "Requirement already satisfied: numpy in /usr/local/lib/python3.10/dist-packages (from rouge_score->-r /content/Transformer/requirements.txt (line 1)) (1.26.4)\n",
            "Requirement already satisfied: six>=1.14.0 in /usr/local/lib/python3.10/dist-packages (from rouge_score->-r /content/Transformer/requirements.txt (line 1)) (1.16.0)\n",
            "Requirement already satisfied: click in /usr/local/lib/python3.10/dist-packages (from nltk->rouge_score->-r /content/Transformer/requirements.txt (line 1)) (8.1.7)\n",
            "Requirement already satisfied: joblib in /usr/local/lib/python3.10/dist-packages (from nltk->rouge_score->-r /content/Transformer/requirements.txt (line 1)) (1.4.2)\n",
            "Requirement already satisfied: regex>=2021.8.3 in /usr/local/lib/python3.10/dist-packages (from nltk->rouge_score->-r /content/Transformer/requirements.txt (line 1)) (2024.9.11)\n",
            "Requirement already satisfied: tqdm in /usr/local/lib/python3.10/dist-packages (from nltk->rouge_score->-r /content/Transformer/requirements.txt (line 1)) (4.66.6)\n",
            "Building wheels for collected packages: rouge_score\n",
            "  Building wheel for rouge_score (setup.py) ... \u001b[?25l\u001b[?25hdone\n",
            "  Created wheel for rouge_score: filename=rouge_score-0.1.2-py3-none-any.whl size=24935 sha256=77171abbeb5ea65254fa33fdfe97319e5e9b3342854c8d5a3dbecd15e488fa05\n",
            "  Stored in directory: /root/.cache/pip/wheels/5f/dd/89/461065a73be61a532ff8599a28e9beef17985c9e9c31e541b4\n",
            "Successfully built rouge_score\n",
            "Installing collected packages: rouge_score\n",
            "Successfully installed rouge_score-0.1.2\n"
          ]
        }
      ],
      "source": [
        "!git clone https://github.com/Mfys212/Transformer\n",
        "!pip install -U -r /content/Transformer/requirements.txt"
      ]
    },
    {
      "cell_type": "markdown",
      "source": [
        "# Create dataset from pandas dataframe"
      ],
      "metadata": {
        "id": "E0bRJIclUCes"
      }
    },
    {
      "cell_type": "markdown",
      "source": [
        "Input data harus dalam bentuk dataframe pandas dengan kolom pertama sebagai kalimat yang akan diterjemahkan atau pertanyaan."
      ],
      "metadata": {
        "id": "cnMay79vVdFB"
      }
    },
    {
      "cell_type": "code",
      "source": [
        "!wget https://raw.githubusercontent.com/sains-data/HivMate/refs/heads/main/data/datasetDL.json"
      ],
      "metadata": {
        "colab": {
          "base_uri": "https://localhost:8080/"
        },
        "id": "swXwB7O_aRKA",
        "outputId": "fb105a5c-d7b3-4def-e982-4f8c1c17c4b8"
      },
      "execution_count": 1,
      "outputs": [
        {
          "output_type": "stream",
          "name": "stdout",
          "text": [
            "--2024-12-09 08:32:00--  https://raw.githubusercontent.com/sains-data/HivMate/refs/heads/main/data/datasetDL.json\n",
            "Resolving raw.githubusercontent.com (raw.githubusercontent.com)... 185.199.108.133, 185.199.109.133, 185.199.110.133, ...\n",
            "Connecting to raw.githubusercontent.com (raw.githubusercontent.com)|185.199.108.133|:443... connected.\n",
            "HTTP request sent, awaiting response... 200 OK\n",
            "Length: 34332 (34K) [text/plain]\n",
            "Saving to: ‘datasetDL.json’\n",
            "\n",
            "datasetDL.json      100%[===================>]  33.53K  --.-KB/s    in 0.001s  \n",
            "\n",
            "2024-12-09 08:32:00 (47.3 MB/s) - ‘datasetDL.json’ saved [34332/34332]\n",
            "\n"
          ]
        }
      ]
    },
    {
      "cell_type": "code",
      "source": [
        "import pandas as pd\n",
        "import json\n",
        "\n",
        "with open('/content/datasetDL.json', 'r') as file:\n",
        "    data_json = json.load(file)\n",
        "\n",
        "data_rows = []\n",
        "for intent in data_json[\"intents\"]:\n",
        "    for text_item, response_item in zip(intent[\"text\"], intent[\"responses\"]):\n",
        "        data_rows.append({\n",
        "            \"text\": text_item,\n",
        "            \"response\": response_item\n",
        "        })\n",
        "\n",
        "df = pd.DataFrame(data_rows)\n",
        "train, valid = df, df\n",
        "train"
      ],
      "metadata": {
        "colab": {
          "base_uri": "https://localhost:8080/",
          "height": 423
        },
        "id": "m6qu-SR3a1-x",
        "outputId": "ce46a44f-38e9-4c53-933f-1c9da16c9b6e"
      },
      "execution_count": 2,
      "outputs": [
        {
          "output_type": "execute_result",
          "data": {
            "text/plain": [
              "                                                 text  \\\n",
              "0                                        Apa itu HIV?   \n",
              "1                                       Apa itu AIDS?   \n",
              "2                  Apa perbedaan antara HIV dan AIDS?   \n",
              "3                       Apa itu infeksi oportunistik?   \n",
              "4   Berapa lama waktu yang biasanya dibutuhkan unt...   \n",
              "..                                                ...   \n",
              "95       Apa potensi terapi gen dalam pengobatan HIV?   \n",
              "96  Bagaimana kecerdasan buatan digunakan untuk me...   \n",
              "97  Bagaimana teknologi blockchain dapat membantu ...   \n",
              "98  Apa inovasi terbaru dalam alat uji HIV berbasi...   \n",
              "99  Bagaimana telemedicine membantu pasien HIV men...   \n",
              "\n",
              "                                             response  \n",
              "0   Singkatan dari Human Immunodeficiency Virus, s...  \n",
              "1   Singkatan dari Acquired Immune Deficiency Synd...  \n",
              "2   HIV adalah virus penyebab, sedangkan AIDS adal...  \n",
              "3   Infeksi oportunistik dapat disebabkan oleh ber...  \n",
              "4   Biasanya membutuhkan waktu 5 hingga 10 tahun a...  \n",
              "..                                                ...  \n",
              "95  Terapi gen memiliki potensi untuk menyembuhkan...  \n",
              "96  Kecerdasan buatan digunakan untuk menganalisis...  \n",
              "97  Teknologi blockchain dapat meningkatkan manaje...  \n",
              "98  Inovasi dalam alat uji HIV berbasis rumah menc...  \n",
              "99  Telemedicine memungkinkan pasien HIV untuk ber...  \n",
              "\n",
              "[100 rows x 2 columns]"
            ],
            "text/html": [
              "\n",
              "  <div id=\"df-eb3da6c0-be19-4b8f-9a71-14ac973c0afe\" class=\"colab-df-container\">\n",
              "    <div>\n",
              "<style scoped>\n",
              "    .dataframe tbody tr th:only-of-type {\n",
              "        vertical-align: middle;\n",
              "    }\n",
              "\n",
              "    .dataframe tbody tr th {\n",
              "        vertical-align: top;\n",
              "    }\n",
              "\n",
              "    .dataframe thead th {\n",
              "        text-align: right;\n",
              "    }\n",
              "</style>\n",
              "<table border=\"1\" class=\"dataframe\">\n",
              "  <thead>\n",
              "    <tr style=\"text-align: right;\">\n",
              "      <th></th>\n",
              "      <th>text</th>\n",
              "      <th>response</th>\n",
              "    </tr>\n",
              "  </thead>\n",
              "  <tbody>\n",
              "    <tr>\n",
              "      <th>0</th>\n",
              "      <td>Apa itu HIV?</td>\n",
              "      <td>Singkatan dari Human Immunodeficiency Virus, s...</td>\n",
              "    </tr>\n",
              "    <tr>\n",
              "      <th>1</th>\n",
              "      <td>Apa itu AIDS?</td>\n",
              "      <td>Singkatan dari Acquired Immune Deficiency Synd...</td>\n",
              "    </tr>\n",
              "    <tr>\n",
              "      <th>2</th>\n",
              "      <td>Apa perbedaan antara HIV dan AIDS?</td>\n",
              "      <td>HIV adalah virus penyebab, sedangkan AIDS adal...</td>\n",
              "    </tr>\n",
              "    <tr>\n",
              "      <th>3</th>\n",
              "      <td>Apa itu infeksi oportunistik?</td>\n",
              "      <td>Infeksi oportunistik dapat disebabkan oleh ber...</td>\n",
              "    </tr>\n",
              "    <tr>\n",
              "      <th>4</th>\n",
              "      <td>Berapa lama waktu yang biasanya dibutuhkan unt...</td>\n",
              "      <td>Biasanya membutuhkan waktu 5 hingga 10 tahun a...</td>\n",
              "    </tr>\n",
              "    <tr>\n",
              "      <th>...</th>\n",
              "      <td>...</td>\n",
              "      <td>...</td>\n",
              "    </tr>\n",
              "    <tr>\n",
              "      <th>95</th>\n",
              "      <td>Apa potensi terapi gen dalam pengobatan HIV?</td>\n",
              "      <td>Terapi gen memiliki potensi untuk menyembuhkan...</td>\n",
              "    </tr>\n",
              "    <tr>\n",
              "      <th>96</th>\n",
              "      <td>Bagaimana kecerdasan buatan digunakan untuk me...</td>\n",
              "      <td>Kecerdasan buatan digunakan untuk menganalisis...</td>\n",
              "    </tr>\n",
              "    <tr>\n",
              "      <th>97</th>\n",
              "      <td>Bagaimana teknologi blockchain dapat membantu ...</td>\n",
              "      <td>Teknologi blockchain dapat meningkatkan manaje...</td>\n",
              "    </tr>\n",
              "    <tr>\n",
              "      <th>98</th>\n",
              "      <td>Apa inovasi terbaru dalam alat uji HIV berbasi...</td>\n",
              "      <td>Inovasi dalam alat uji HIV berbasis rumah menc...</td>\n",
              "    </tr>\n",
              "    <tr>\n",
              "      <th>99</th>\n",
              "      <td>Bagaimana telemedicine membantu pasien HIV men...</td>\n",
              "      <td>Telemedicine memungkinkan pasien HIV untuk ber...</td>\n",
              "    </tr>\n",
              "  </tbody>\n",
              "</table>\n",
              "<p>100 rows × 2 columns</p>\n",
              "</div>\n",
              "    <div class=\"colab-df-buttons\">\n",
              "\n",
              "  <div class=\"colab-df-container\">\n",
              "    <button class=\"colab-df-convert\" onclick=\"convertToInteractive('df-eb3da6c0-be19-4b8f-9a71-14ac973c0afe')\"\n",
              "            title=\"Convert this dataframe to an interactive table.\"\n",
              "            style=\"display:none;\">\n",
              "\n",
              "  <svg xmlns=\"http://www.w3.org/2000/svg\" height=\"24px\" viewBox=\"0 -960 960 960\">\n",
              "    <path d=\"M120-120v-720h720v720H120Zm60-500h600v-160H180v160Zm220 220h160v-160H400v160Zm0 220h160v-160H400v160ZM180-400h160v-160H180v160Zm440 0h160v-160H620v160ZM180-180h160v-160H180v160Zm440 0h160v-160H620v160Z\"/>\n",
              "  </svg>\n",
              "    </button>\n",
              "\n",
              "  <style>\n",
              "    .colab-df-container {\n",
              "      display:flex;\n",
              "      gap: 12px;\n",
              "    }\n",
              "\n",
              "    .colab-df-convert {\n",
              "      background-color: #E8F0FE;\n",
              "      border: none;\n",
              "      border-radius: 50%;\n",
              "      cursor: pointer;\n",
              "      display: none;\n",
              "      fill: #1967D2;\n",
              "      height: 32px;\n",
              "      padding: 0 0 0 0;\n",
              "      width: 32px;\n",
              "    }\n",
              "\n",
              "    .colab-df-convert:hover {\n",
              "      background-color: #E2EBFA;\n",
              "      box-shadow: 0px 1px 2px rgba(60, 64, 67, 0.3), 0px 1px 3px 1px rgba(60, 64, 67, 0.15);\n",
              "      fill: #174EA6;\n",
              "    }\n",
              "\n",
              "    .colab-df-buttons div {\n",
              "      margin-bottom: 4px;\n",
              "    }\n",
              "\n",
              "    [theme=dark] .colab-df-convert {\n",
              "      background-color: #3B4455;\n",
              "      fill: #D2E3FC;\n",
              "    }\n",
              "\n",
              "    [theme=dark] .colab-df-convert:hover {\n",
              "      background-color: #434B5C;\n",
              "      box-shadow: 0px 1px 3px 1px rgba(0, 0, 0, 0.15);\n",
              "      filter: drop-shadow(0px 1px 2px rgba(0, 0, 0, 0.3));\n",
              "      fill: #FFFFFF;\n",
              "    }\n",
              "  </style>\n",
              "\n",
              "    <script>\n",
              "      const buttonEl =\n",
              "        document.querySelector('#df-eb3da6c0-be19-4b8f-9a71-14ac973c0afe button.colab-df-convert');\n",
              "      buttonEl.style.display =\n",
              "        google.colab.kernel.accessAllowed ? 'block' : 'none';\n",
              "\n",
              "      async function convertToInteractive(key) {\n",
              "        const element = document.querySelector('#df-eb3da6c0-be19-4b8f-9a71-14ac973c0afe');\n",
              "        const dataTable =\n",
              "          await google.colab.kernel.invokeFunction('convertToInteractive',\n",
              "                                                    [key], {});\n",
              "        if (!dataTable) return;\n",
              "\n",
              "        const docLinkHtml = 'Like what you see? Visit the ' +\n",
              "          '<a target=\"_blank\" href=https://colab.research.google.com/notebooks/data_table.ipynb>data table notebook</a>'\n",
              "          + ' to learn more about interactive tables.';\n",
              "        element.innerHTML = '';\n",
              "        dataTable['output_type'] = 'display_data';\n",
              "        await google.colab.output.renderOutput(dataTable, element);\n",
              "        const docLink = document.createElement('div');\n",
              "        docLink.innerHTML = docLinkHtml;\n",
              "        element.appendChild(docLink);\n",
              "      }\n",
              "    </script>\n",
              "  </div>\n",
              "\n",
              "\n",
              "<div id=\"df-f4b9a90d-f877-4f19-bbaa-cf75f479211e\">\n",
              "  <button class=\"colab-df-quickchart\" onclick=\"quickchart('df-f4b9a90d-f877-4f19-bbaa-cf75f479211e')\"\n",
              "            title=\"Suggest charts\"\n",
              "            style=\"display:none;\">\n",
              "\n",
              "<svg xmlns=\"http://www.w3.org/2000/svg\" height=\"24px\"viewBox=\"0 0 24 24\"\n",
              "     width=\"24px\">\n",
              "    <g>\n",
              "        <path d=\"M19 3H5c-1.1 0-2 .9-2 2v14c0 1.1.9 2 2 2h14c1.1 0 2-.9 2-2V5c0-1.1-.9-2-2-2zM9 17H7v-7h2v7zm4 0h-2V7h2v10zm4 0h-2v-4h2v4z\"/>\n",
              "    </g>\n",
              "</svg>\n",
              "  </button>\n",
              "\n",
              "<style>\n",
              "  .colab-df-quickchart {\n",
              "      --bg-color: #E8F0FE;\n",
              "      --fill-color: #1967D2;\n",
              "      --hover-bg-color: #E2EBFA;\n",
              "      --hover-fill-color: #174EA6;\n",
              "      --disabled-fill-color: #AAA;\n",
              "      --disabled-bg-color: #DDD;\n",
              "  }\n",
              "\n",
              "  [theme=dark] .colab-df-quickchart {\n",
              "      --bg-color: #3B4455;\n",
              "      --fill-color: #D2E3FC;\n",
              "      --hover-bg-color: #434B5C;\n",
              "      --hover-fill-color: #FFFFFF;\n",
              "      --disabled-bg-color: #3B4455;\n",
              "      --disabled-fill-color: #666;\n",
              "  }\n",
              "\n",
              "  .colab-df-quickchart {\n",
              "    background-color: var(--bg-color);\n",
              "    border: none;\n",
              "    border-radius: 50%;\n",
              "    cursor: pointer;\n",
              "    display: none;\n",
              "    fill: var(--fill-color);\n",
              "    height: 32px;\n",
              "    padding: 0;\n",
              "    width: 32px;\n",
              "  }\n",
              "\n",
              "  .colab-df-quickchart:hover {\n",
              "    background-color: var(--hover-bg-color);\n",
              "    box-shadow: 0 1px 2px rgba(60, 64, 67, 0.3), 0 1px 3px 1px rgba(60, 64, 67, 0.15);\n",
              "    fill: var(--button-hover-fill-color);\n",
              "  }\n",
              "\n",
              "  .colab-df-quickchart-complete:disabled,\n",
              "  .colab-df-quickchart-complete:disabled:hover {\n",
              "    background-color: var(--disabled-bg-color);\n",
              "    fill: var(--disabled-fill-color);\n",
              "    box-shadow: none;\n",
              "  }\n",
              "\n",
              "  .colab-df-spinner {\n",
              "    border: 2px solid var(--fill-color);\n",
              "    border-color: transparent;\n",
              "    border-bottom-color: var(--fill-color);\n",
              "    animation:\n",
              "      spin 1s steps(1) infinite;\n",
              "  }\n",
              "\n",
              "  @keyframes spin {\n",
              "    0% {\n",
              "      border-color: transparent;\n",
              "      border-bottom-color: var(--fill-color);\n",
              "      border-left-color: var(--fill-color);\n",
              "    }\n",
              "    20% {\n",
              "      border-color: transparent;\n",
              "      border-left-color: var(--fill-color);\n",
              "      border-top-color: var(--fill-color);\n",
              "    }\n",
              "    30% {\n",
              "      border-color: transparent;\n",
              "      border-left-color: var(--fill-color);\n",
              "      border-top-color: var(--fill-color);\n",
              "      border-right-color: var(--fill-color);\n",
              "    }\n",
              "    40% {\n",
              "      border-color: transparent;\n",
              "      border-right-color: var(--fill-color);\n",
              "      border-top-color: var(--fill-color);\n",
              "    }\n",
              "    60% {\n",
              "      border-color: transparent;\n",
              "      border-right-color: var(--fill-color);\n",
              "    }\n",
              "    80% {\n",
              "      border-color: transparent;\n",
              "      border-right-color: var(--fill-color);\n",
              "      border-bottom-color: var(--fill-color);\n",
              "    }\n",
              "    90% {\n",
              "      border-color: transparent;\n",
              "      border-bottom-color: var(--fill-color);\n",
              "    }\n",
              "  }\n",
              "</style>\n",
              "\n",
              "  <script>\n",
              "    async function quickchart(key) {\n",
              "      const quickchartButtonEl =\n",
              "        document.querySelector('#' + key + ' button');\n",
              "      quickchartButtonEl.disabled = true;  // To prevent multiple clicks.\n",
              "      quickchartButtonEl.classList.add('colab-df-spinner');\n",
              "      try {\n",
              "        const charts = await google.colab.kernel.invokeFunction(\n",
              "            'suggestCharts', [key], {});\n",
              "      } catch (error) {\n",
              "        console.error('Error during call to suggestCharts:', error);\n",
              "      }\n",
              "      quickchartButtonEl.classList.remove('colab-df-spinner');\n",
              "      quickchartButtonEl.classList.add('colab-df-quickchart-complete');\n",
              "    }\n",
              "    (() => {\n",
              "      let quickchartButtonEl =\n",
              "        document.querySelector('#df-f4b9a90d-f877-4f19-bbaa-cf75f479211e button');\n",
              "      quickchartButtonEl.style.display =\n",
              "        google.colab.kernel.accessAllowed ? 'block' : 'none';\n",
              "    })();\n",
              "  </script>\n",
              "</div>\n",
              "\n",
              "  <div id=\"id_6e680012-5846-413a-a3f0-b964157e04dc\">\n",
              "    <style>\n",
              "      .colab-df-generate {\n",
              "        background-color: #E8F0FE;\n",
              "        border: none;\n",
              "        border-radius: 50%;\n",
              "        cursor: pointer;\n",
              "        display: none;\n",
              "        fill: #1967D2;\n",
              "        height: 32px;\n",
              "        padding: 0 0 0 0;\n",
              "        width: 32px;\n",
              "      }\n",
              "\n",
              "      .colab-df-generate:hover {\n",
              "        background-color: #E2EBFA;\n",
              "        box-shadow: 0px 1px 2px rgba(60, 64, 67, 0.3), 0px 1px 3px 1px rgba(60, 64, 67, 0.15);\n",
              "        fill: #174EA6;\n",
              "      }\n",
              "\n",
              "      [theme=dark] .colab-df-generate {\n",
              "        background-color: #3B4455;\n",
              "        fill: #D2E3FC;\n",
              "      }\n",
              "\n",
              "      [theme=dark] .colab-df-generate:hover {\n",
              "        background-color: #434B5C;\n",
              "        box-shadow: 0px 1px 3px 1px rgba(0, 0, 0, 0.15);\n",
              "        filter: drop-shadow(0px 1px 2px rgba(0, 0, 0, 0.3));\n",
              "        fill: #FFFFFF;\n",
              "      }\n",
              "    </style>\n",
              "    <button class=\"colab-df-generate\" onclick=\"generateWithVariable('df')\"\n",
              "            title=\"Generate code using this dataframe.\"\n",
              "            style=\"display:none;\">\n",
              "\n",
              "  <svg xmlns=\"http://www.w3.org/2000/svg\" height=\"24px\"viewBox=\"0 0 24 24\"\n",
              "       width=\"24px\">\n",
              "    <path d=\"M7,19H8.4L18.45,9,17,7.55,7,17.6ZM5,21V16.75L18.45,3.32a2,2,0,0,1,2.83,0l1.4,1.43a1.91,1.91,0,0,1,.58,1.4,1.91,1.91,0,0,1-.58,1.4L9.25,21ZM18.45,9,17,7.55Zm-12,3A5.31,5.31,0,0,0,4.9,8.1,5.31,5.31,0,0,0,1,6.5,5.31,5.31,0,0,0,4.9,4.9,5.31,5.31,0,0,0,6.5,1,5.31,5.31,0,0,0,8.1,4.9,5.31,5.31,0,0,0,12,6.5,5.46,5.46,0,0,0,6.5,12Z\"/>\n",
              "  </svg>\n",
              "    </button>\n",
              "    <script>\n",
              "      (() => {\n",
              "      const buttonEl =\n",
              "        document.querySelector('#id_6e680012-5846-413a-a3f0-b964157e04dc button.colab-df-generate');\n",
              "      buttonEl.style.display =\n",
              "        google.colab.kernel.accessAllowed ? 'block' : 'none';\n",
              "\n",
              "      buttonEl.onclick = () => {\n",
              "        google.colab.notebook.generateWithVariable('df');\n",
              "      }\n",
              "      })();\n",
              "    </script>\n",
              "  </div>\n",
              "\n",
              "    </div>\n",
              "  </div>\n"
            ],
            "application/vnd.google.colaboratory.intrinsic+json": {
              "type": "dataframe",
              "variable_name": "df",
              "summary": "{\n  \"name\": \"df\",\n  \"rows\": 100,\n  \"fields\": [\n    {\n      \"column\": \"text\",\n      \"properties\": {\n        \"dtype\": \"string\",\n        \"num_unique_values\": 100,\n        \"samples\": [\n          \"Bagaimana media digital digunakan dalam kampanye HIV?\",\n          \"Bagaimana akses pada PrEP dan ART bisa diperluas?\",\n          \"Apa perbedaan antara HIV-positif dan HIV-negatif?\"\n        ],\n        \"semantic_type\": \"\",\n        \"description\": \"\"\n      }\n    },\n    {\n      \"column\": \"response\",\n      \"properties\": {\n        \"dtype\": \"string\",\n        \"num_unique_values\": 100,\n        \"samples\": [\n          \"Media digital digunakan untuk menyebarkan informasi tentang HIV, seperti pencegahan, pengobatan, dan kampanye penghapusan stigma melalui platform media sosial.\",\n          \"Dengan meningkatkan subsidi pemerintah untuk obat-obatan ini, menyediakan lebih banyak klinik yang menawarkan layanan HIV, dan menyelenggarakan kampanye untuk memperkenalkan manfaat PrEP dan ART kepada masyarakat.\",\n          \"HIV-Positif berarti seseorang terinfeksi oleh virus HIV, yang dapat terdeteksi melalui tes darah. Sedangkan HIV-Negatif berarti seseorang tidak terinfeksi HIV, yang juga terdeteksi melalui tes darah.\"\n        ],\n        \"semantic_type\": \"\",\n        \"description\": \"\"\n      }\n    }\n  ]\n}"
            }
          },
          "metadata": {},
          "execution_count": 2
        }
      ]
    },
    {
      "cell_type": "markdown",
      "source": [
        "# Define Hyperparameters"
      ],
      "metadata": {
        "id": "LxLLDVf2UZbm"
      }
    },
    {
      "cell_type": "code",
      "source": [
        "from Transformer.train.train import TRANSFORMER\n",
        "\n",
        "BATCH_SIZE = 8        #batch size\n",
        "SEQ_LENGTH = 40       #max sequence\n",
        "VOCAB_SIZE = 1500     #vocab size\n",
        "EMBED_DIM = 512       #embedding dimension\n",
        "EPOCHS = 40           #num epochs\n",
        "num_head = 8          #num heads in multiheads attention\n",
        "num_l = 2             #num layer encoder and decoder block"
      ],
      "metadata": {
        "colab": {
          "base_uri": "https://localhost:8080/"
        },
        "id": "UNv3f8ThRahQ",
        "outputId": "a2e3e255-16f0-408a-d3e1-605822d48516"
      },
      "execution_count": null,
      "outputs": [
        {
          "output_type": "stream",
          "name": "stderr",
          "text": [
            "[nltk_data] Downloading package wordnet to /root/nltk_data...\n"
          ]
        }
      ]
    },
    {
      "cell_type": "markdown",
      "source": [
        "# Train"
      ],
      "metadata": {
        "id": "miWyZFlvWY7s"
      }
    },
    {
      "cell_type": "code",
      "source": [
        "model, train_data, valid_data = TRANSFORMER(\n",
        "    train, valid, batch=BATCH_SIZE, num_head=num_head, num_l=num_l, EMBED_DIM=EMBED_DIM, SEQ_LENGTH=SEQ_LENGTH, VOCAB_SIZE=VOCAB_SIZE)\n",
        "\n",
        "history = model.fit(train_data, epochs=EPOCHS, validation_data=valid_data)"
      ],
      "metadata": {
        "colab": {
          "base_uri": "https://localhost:8080/"
        },
        "id": "4BKi6CAwWQl-",
        "outputId": "848d00cd-417d-4934-a82b-3e3a72988910"
      },
      "execution_count": null,
      "outputs": [
        {
          "output_type": "stream",
          "name": "stdout",
          "text": [
            "Epoch 1/40\n",
            "\u001b[1m13/13\u001b[0m \u001b[32m━━━━━━━━━━━━━━━━━━━━\u001b[0m\u001b[37m\u001b[0m \u001b[1m23s\u001b[0m 109ms/step - seq_acc: 0.0011 - seq_loss: 7.3095 - val_seq_acc: 0.0014 - val_seq_loss: 7.2861\n",
            "Epoch 2/40\n",
            "\u001b[1m13/13\u001b[0m \u001b[32m━━━━━━━━━━━━━━━━━━━━\u001b[0m\u001b[37m\u001b[0m \u001b[1m4s\u001b[0m 65ms/step - seq_acc: 0.0023 - seq_loss: 7.2771 - val_seq_acc: 0.0019 - val_seq_loss: 7.2286\n",
            "Epoch 3/40\n",
            "\u001b[1m13/13\u001b[0m \u001b[32m━━━━━━━━━━━━━━━━━━━━\u001b[0m\u001b[37m\u001b[0m \u001b[1m1s\u001b[0m 42ms/step - seq_acc: 0.0014 - seq_loss: 7.2254 - val_seq_acc: 0.0026 - val_seq_loss: 7.1343\n",
            "Epoch 4/40\n",
            "\u001b[1m13/13\u001b[0m \u001b[32m━━━━━━━━━━━━━━━━━━━━\u001b[0m\u001b[37m\u001b[0m \u001b[1m1s\u001b[0m 43ms/step - seq_acc: 0.0017 - seq_loss: 7.1089 - val_seq_acc: 0.0050 - val_seq_loss: 7.0069\n",
            "Epoch 5/40\n",
            "\u001b[1m13/13\u001b[0m \u001b[32m━━━━━━━━━━━━━━━━━━━━\u001b[0m\u001b[37m\u001b[0m \u001b[1m1s\u001b[0m 40ms/step - seq_acc: 0.0073 - seq_loss: 6.9843 - val_seq_acc: 0.0216 - val_seq_loss: 6.8545\n",
            "Epoch 6/40\n",
            "\u001b[1m13/13\u001b[0m \u001b[32m━━━━━━━━━━━━━━━━━━━━\u001b[0m\u001b[37m\u001b[0m \u001b[1m1s\u001b[0m 41ms/step - seq_acc: 0.0246 - seq_loss: 6.8146 - val_seq_acc: 0.0423 - val_seq_loss: 6.6897\n",
            "Epoch 7/40\n",
            "\u001b[1m13/13\u001b[0m \u001b[32m━━━━━━━━━━━━━━━━━━━━\u001b[0m\u001b[37m\u001b[0m \u001b[1m1s\u001b[0m 41ms/step - seq_acc: 0.0400 - seq_loss: 6.6595 - val_seq_acc: 0.0492 - val_seq_loss: 6.5356\n",
            "Epoch 8/40\n",
            "\u001b[1m13/13\u001b[0m \u001b[32m━━━━━━━━━━━━━━━━━━━━\u001b[0m\u001b[37m\u001b[0m \u001b[1m1s\u001b[0m 41ms/step - seq_acc: 0.0457 - seq_loss: 6.5140 - val_seq_acc: 0.0517 - val_seq_loss: 6.4001\n",
            "Epoch 9/40\n",
            "\u001b[1m13/13\u001b[0m \u001b[32m━━━━━━━━━━━━━━━━━━━━\u001b[0m\u001b[37m\u001b[0m \u001b[1m1s\u001b[0m 43ms/step - seq_acc: 0.0598 - seq_loss: 6.3604 - val_seq_acc: 0.0640 - val_seq_loss: 6.2727\n",
            "Epoch 10/40\n",
            "\u001b[1m13/13\u001b[0m \u001b[32m━━━━━━━━━━━━━━━━━━━━\u001b[0m\u001b[37m\u001b[0m \u001b[1m1s\u001b[0m 41ms/step - seq_acc: 0.0608 - seq_loss: 6.2709 - val_seq_acc: 0.0671 - val_seq_loss: 6.1577\n",
            "Epoch 11/40\n",
            "\u001b[1m13/13\u001b[0m \u001b[32m━━━━━━━━━━━━━━━━━━━━\u001b[0m\u001b[37m\u001b[0m \u001b[1m1s\u001b[0m 41ms/step - seq_acc: 0.0672 - seq_loss: 6.1334 - val_seq_acc: 0.0686 - val_seq_loss: 6.0467\n",
            "Epoch 12/40\n",
            "\u001b[1m13/13\u001b[0m \u001b[32m━━━━━━━━━━━━━━━━━━━━\u001b[0m\u001b[37m\u001b[0m \u001b[1m1s\u001b[0m 41ms/step - seq_acc: 0.0683 - seq_loss: 6.0588 - val_seq_acc: 0.0745 - val_seq_loss: 5.9386\n",
            "Epoch 13/40\n",
            "\u001b[1m13/13\u001b[0m \u001b[32m━━━━━━━━━━━━━━━━━━━━\u001b[0m\u001b[37m\u001b[0m \u001b[1m1s\u001b[0m 40ms/step - seq_acc: 0.0680 - seq_loss: 5.9936 - val_seq_acc: 0.0764 - val_seq_loss: 5.8279\n",
            "Epoch 14/40\n",
            "\u001b[1m13/13\u001b[0m \u001b[32m━━━━━━━━━━━━━━━━━━━━\u001b[0m\u001b[37m\u001b[0m \u001b[1m1s\u001b[0m 41ms/step - seq_acc: 0.0760 - seq_loss: 5.8329 - val_seq_acc: 0.0818 - val_seq_loss: 5.7102\n",
            "Epoch 15/40\n",
            "\u001b[1m13/13\u001b[0m \u001b[32m━━━━━━━━━━━━━━━━━━━━\u001b[0m\u001b[37m\u001b[0m \u001b[1m1s\u001b[0m 41ms/step - seq_acc: 0.0806 - seq_loss: 5.6694 - val_seq_acc: 0.0879 - val_seq_loss: 5.5778\n",
            "Epoch 16/40\n",
            "\u001b[1m13/13\u001b[0m \u001b[32m━━━━━━━━━━━━━━━━━━━━\u001b[0m\u001b[37m\u001b[0m \u001b[1m1s\u001b[0m 41ms/step - seq_acc: 0.0898 - seq_loss: 5.5548 - val_seq_acc: 0.0956 - val_seq_loss: 5.4357\n",
            "Epoch 17/40\n",
            "\u001b[1m13/13\u001b[0m \u001b[32m━━━━━━━━━━━━━━━━━━━━\u001b[0m\u001b[37m\u001b[0m \u001b[1m1s\u001b[0m 42ms/step - seq_acc: 0.0963 - seq_loss: 5.3733 - val_seq_acc: 0.1113 - val_seq_loss: 5.2794\n",
            "Epoch 18/40\n",
            "\u001b[1m13/13\u001b[0m \u001b[32m━━━━━━━━━━━━━━━━━━━━\u001b[0m\u001b[37m\u001b[0m \u001b[1m1s\u001b[0m 40ms/step - seq_acc: 0.1094 - seq_loss: 5.2605 - val_seq_acc: 0.1267 - val_seq_loss: 5.1137\n",
            "Epoch 19/40\n",
            "\u001b[1m13/13\u001b[0m \u001b[32m━━━━━━━━━━━━━━━━━━━━\u001b[0m\u001b[37m\u001b[0m \u001b[1m1s\u001b[0m 49ms/step - seq_acc: 0.1233 - seq_loss: 5.1189 - val_seq_acc: 0.1466 - val_seq_loss: 4.9327\n",
            "Epoch 20/40\n",
            "\u001b[1m13/13\u001b[0m \u001b[32m━━━━━━━━━━━━━━━━━━━━\u001b[0m\u001b[37m\u001b[0m \u001b[1m1s\u001b[0m 58ms/step - seq_acc: 0.1454 - seq_loss: 4.9389 - val_seq_acc: 0.1627 - val_seq_loss: 4.7425\n",
            "Epoch 21/40\n",
            "\u001b[1m13/13\u001b[0m \u001b[32m━━━━━━━━━━━━━━━━━━━━\u001b[0m\u001b[37m\u001b[0m \u001b[1m1s\u001b[0m 41ms/step - seq_acc: 0.1590 - seq_loss: 4.7715 - val_seq_acc: 0.2010 - val_seq_loss: 4.5376\n",
            "Epoch 22/40\n",
            "\u001b[1m13/13\u001b[0m \u001b[32m━━━━━━━━━━━━━━━━━━━━\u001b[0m\u001b[37m\u001b[0m \u001b[1m1s\u001b[0m 42ms/step - seq_acc: 0.2138 - seq_loss: 4.4381 - val_seq_acc: 0.2363 - val_seq_loss: 4.3276\n",
            "Epoch 23/40\n",
            "\u001b[1m13/13\u001b[0m \u001b[32m━━━━━━━━━━━━━━━━━━━━\u001b[0m\u001b[37m\u001b[0m \u001b[1m1s\u001b[0m 41ms/step - seq_acc: 0.2205 - seq_loss: 4.3795 - val_seq_acc: 0.2594 - val_seq_loss: 4.1039\n",
            "Epoch 24/40\n",
            "\u001b[1m13/13\u001b[0m \u001b[32m━━━━━━━━━━━━━━━━━━━━\u001b[0m\u001b[37m\u001b[0m \u001b[1m1s\u001b[0m 41ms/step - seq_acc: 0.2611 - seq_loss: 4.0657 - val_seq_acc: 0.3020 - val_seq_loss: 3.8700\n",
            "Epoch 25/40\n",
            "\u001b[1m13/13\u001b[0m \u001b[32m━━━━━━━━━━━━━━━━━━━━\u001b[0m\u001b[37m\u001b[0m \u001b[1m1s\u001b[0m 41ms/step - seq_acc: 0.2833 - seq_loss: 3.9317 - val_seq_acc: 0.3330 - val_seq_loss: 3.6357\n",
            "Epoch 26/40\n",
            "\u001b[1m13/13\u001b[0m \u001b[32m━━━━━━━━━━━━━━━━━━━━\u001b[0m\u001b[37m\u001b[0m \u001b[1m1s\u001b[0m 41ms/step - seq_acc: 0.3186 - seq_loss: 3.7265 - val_seq_acc: 0.3682 - val_seq_loss: 3.4020\n",
            "Epoch 27/40\n",
            "\u001b[1m13/13\u001b[0m \u001b[32m━━━━━━━━━━━━━━━━━━━━\u001b[0m\u001b[37m\u001b[0m \u001b[1m1s\u001b[0m 40ms/step - seq_acc: 0.3970 - seq_loss: 3.3369 - val_seq_acc: 0.4140 - val_seq_loss: 3.1703\n",
            "Epoch 28/40\n",
            "\u001b[1m13/13\u001b[0m \u001b[32m━━━━━━━━━━━━━━━━━━━━\u001b[0m\u001b[37m\u001b[0m \u001b[1m1s\u001b[0m 41ms/step - seq_acc: 0.4145 - seq_loss: 3.1741 - val_seq_acc: 0.4780 - val_seq_loss: 2.9354\n",
            "Epoch 29/40\n",
            "\u001b[1m13/13\u001b[0m \u001b[32m━━━━━━━━━━━━━━━━━━━━\u001b[0m\u001b[37m\u001b[0m \u001b[1m1s\u001b[0m 41ms/step - seq_acc: 0.4976 - seq_loss: 2.8554 - val_seq_acc: 0.5246 - val_seq_loss: 2.7273\n",
            "Epoch 30/40\n",
            "\u001b[1m13/13\u001b[0m \u001b[32m━━━━━━━━━━━━━━━━━━━━\u001b[0m\u001b[37m\u001b[0m \u001b[1m1s\u001b[0m 40ms/step - seq_acc: 0.4954 - seq_loss: 2.7550 - val_seq_acc: 0.5390 - val_seq_loss: 2.5085\n",
            "Epoch 31/40\n",
            "\u001b[1m13/13\u001b[0m \u001b[32m━━━━━━━━━━━━━━━━━━━━\u001b[0m\u001b[37m\u001b[0m \u001b[1m1s\u001b[0m 41ms/step - seq_acc: 0.5573 - seq_loss: 2.4450 - val_seq_acc: 0.5549 - val_seq_loss: 2.3233\n",
            "Epoch 32/40\n",
            "\u001b[1m13/13\u001b[0m \u001b[32m━━━━━━━━━━━━━━━━━━━━\u001b[0m\u001b[37m\u001b[0m \u001b[1m1s\u001b[0m 40ms/step - seq_acc: 0.5631 - seq_loss: 2.3706 - val_seq_acc: 0.5965 - val_seq_loss: 2.1249\n",
            "Epoch 33/40\n",
            "\u001b[1m13/13\u001b[0m \u001b[32m━━━━━━━━━━━━━━━━━━━━\u001b[0m\u001b[37m\u001b[0m \u001b[1m1s\u001b[0m 40ms/step - seq_acc: 0.5663 - seq_loss: 2.2664 - val_seq_acc: 0.6124 - val_seq_loss: 1.9537\n",
            "Epoch 34/40\n",
            "\u001b[1m13/13\u001b[0m \u001b[32m━━━━━━━━━━━━━━━━━━━━\u001b[0m\u001b[37m\u001b[0m \u001b[1m1s\u001b[0m 42ms/step - seq_acc: 0.6395 - seq_loss: 1.9137 - val_seq_acc: 0.6635 - val_seq_loss: 1.7784\n",
            "Epoch 35/40\n",
            "\u001b[1m13/13\u001b[0m \u001b[32m━━━━━━━━━━━━━━━━━━━━\u001b[0m\u001b[37m\u001b[0m \u001b[1m1s\u001b[0m 40ms/step - seq_acc: 0.6740 - seq_loss: 1.7274 - val_seq_acc: 0.6927 - val_seq_loss: 1.6103\n",
            "Epoch 36/40\n",
            "\u001b[1m13/13\u001b[0m \u001b[32m━━━━━━━━━━━━━━━━━━━━\u001b[0m\u001b[37m\u001b[0m \u001b[1m1s\u001b[0m 42ms/step - seq_acc: 0.6644 - seq_loss: 1.6942 - val_seq_acc: 0.7132 - val_seq_loss: 1.4622\n",
            "Epoch 37/40\n",
            "\u001b[1m13/13\u001b[0m \u001b[32m━━━━━━━━━━━━━━━━━━━━\u001b[0m\u001b[37m\u001b[0m \u001b[1m1s\u001b[0m 49ms/step - seq_acc: 0.6821 - seq_loss: 1.5686 - val_seq_acc: 0.7562 - val_seq_loss: 1.3166\n",
            "Epoch 38/40\n",
            "\u001b[1m13/13\u001b[0m \u001b[32m━━━━━━━━━━━━━━━━━━━━\u001b[0m\u001b[37m\u001b[0m \u001b[1m1s\u001b[0m 64ms/step - seq_acc: 0.7598 - seq_loss: 1.2938 - val_seq_acc: 0.7871 - val_seq_loss: 1.1883\n",
            "Epoch 39/40\n",
            "\u001b[1m13/13\u001b[0m \u001b[32m━━━━━━━━━━━━━━━━━━━━\u001b[0m\u001b[37m\u001b[0m \u001b[1m1s\u001b[0m 42ms/step - seq_acc: 0.8221 - seq_loss: 1.0706 - val_seq_acc: 0.8151 - val_seq_loss: 1.0773\n",
            "Epoch 40/40\n",
            "\u001b[1m13/13\u001b[0m \u001b[32m━━━━━━━━━━━━━━━━━━━━\u001b[0m\u001b[37m\u001b[0m \u001b[1m1s\u001b[0m 40ms/step - seq_acc: 0.7925 - seq_loss: 1.1478 - val_seq_acc: 0.8390 - val_seq_loss: 0.9623\n"
          ]
        }
      ]
    },
    {
      "cell_type": "code",
      "source": [
        "import matplotlib.pyplot as plt\n",
        "epochs_range = range(EPOCHS)\n",
        "plt.figure(figsize=(15, 15))\n",
        "plt.subplot(2, 2, 1)\n",
        "plt.plot(epochs_range, history.history['seq_acc'], label='Training Accuracy')\n",
        "plt.plot(epochs_range, history.history['val_seq_acc'], label='Validation Accuracy')\n",
        "plt.legend(loc='lower right')\n",
        "plt.title('Training and Validation Accuracy')\n",
        "\n",
        "plt.subplot(2, 2, 2)\n",
        "plt.plot(epochs_range, history.history['seq_loss'], label='Training Loss')\n",
        "plt.plot(epochs_range, history.history['val_seq_loss'], label='Validation Loss')\n",
        "plt.legend(loc='upper right')\n",
        "plt.title('Training and Validation Loss')\n",
        "plt.show()"
      ],
      "metadata": {
        "colab": {
          "base_uri": "https://localhost:8080/",
          "height": 590
        },
        "id": "iUCsvXaUX1sq",
        "outputId": "db3b6700-a6b2-41f3-b152-cb00f9eb94b1"
      },
      "execution_count": null,
      "outputs": [
        {
          "output_type": "display_data",
          "data": {
            "text/plain": [
              "<Figure size 1500x1500 with 2 Axes>"
            ],
            "image/png": "[encoded data removed]"
          },
          "metadata": {}
        }
      ]
    },
    {
      "cell_type": "markdown",
      "source": [
        "# Eval"
      ],
      "metadata": {
        "id": "dj2qAlagX7e0"
      }
    },
    {
      "cell_type": "code",
      "source": [
        "model.evaluate(valid_data) # acc and loss with input gorund truth in decoder"
      ],
      "metadata": {
        "colab": {
          "base_uri": "https://localhost:8080/"
        },
        "id": "sVzGe_UgudX9",
        "outputId": "2b928e14-e75e-4fca-d37c-df3115188fe4"
      },
      "execution_count": null,
      "outputs": [
        {
          "output_type": "stream",
          "name": "stdout",
          "text": [
            "\u001b[1m13/13\u001b[0m \u001b[32m━━━━━━━━━━━━━━━━━━━━\u001b[0m\u001b[37m\u001b[0m \u001b[1m0s\u001b[0m 7ms/step - seq_acc: 0.8731 - seq_loss: 0.8681\n"
          ]
        },
        {
          "output_type": "execute_result",
          "data": {
            "text/plain": [
              "[0.8389826416969299, 0.9622783660888672]"
            ]
          },
          "metadata": {},
          "execution_count": 7
        }
      ]
    },
    {
      "cell_type": "code",
      "source": [
        "model.eval_metrics(valid) # without input gorund truth in decoder"
      ],
      "metadata": {
        "colab": {
          "base_uri": "https://localhost:8080/"
        },
        "id": "B2XxpXxEX6pB",
        "outputId": "a8f517ac-da11-42d3-b450-3c209175195a"
      },
      "execution_count": null,
      "outputs": [
        {
          "output_type": "stream",
          "name": "stderr",
          "text": [
            "Processing predictions: 100%|██████████| 100/100 [04:22<00:00,  2.62s/it]\n",
            "Calculate metrics: 100it [00:26,  3.82it/s]\n"
          ]
        },
        {
          "output_type": "execute_result",
          "data": {
            "text/plain": [
              "{'BLEU': 0.003904463507443407,\n",
              " 'ROUGE-1': 0.001,\n",
              " 'ROUGE-2': 0.0002,\n",
              " 'ROUGE-L': 0.001,\n",
              " 'METEOR': 0.05435269473837338}"
            ]
          },
          "metadata": {},
          "execution_count": 8
        }
      ]
    },
    {
      "cell_type": "markdown",
      "source": [
        "# Predict"
      ],
      "metadata": {
        "id": "e99IrkBBYAwJ"
      }
    },
    {
      "cell_type": "code",
      "source": [
        "import tensorflow as tf\n",
        "\n",
        "def chat():\n",
        "    print(\"balas exit untuk keluar program\")\n",
        "    prompt = input(\"Anda: \")\n",
        "    while prompt != \"exit\":\n",
        "        print(\"Bot: \" + model(tf.constant(prompt)))\n",
        "        prompt = input(\"Anda: \")\n",
        "chat()"
      ],
      "metadata": {
        "colab": {
          "base_uri": "https://localhost:8080/"
        },
        "id": "G8mncOFoYCvJ",
        "outputId": "13a8473a-9464-4020-ae96-a12ffb6f5890"
      },
      "execution_count": null,
      "outputs": [
        {
          "name": "stdout",
          "output_type": "stream",
          "text": [
            "balas exit untuk keluar program\n",
            "Anda: apa itu penyakit hiv?\n",
            "Bot: singkatan dari human immunodeficiency virus, sebuah virus yang menyerang sistem kekebalan tubuh manusia.  singkatan dari infeksi hiv.  singkatan dari infeksi yang terinfeksi. sistem kekebalan tubuh.  singkatan dari infeksi dan penyakit lainnya, yang menyulitkan tubuh untuk membasmi\n",
            "Anda: apa bedanya hiv dan aids?\n",
            "Bot: hiv adalah virus penyebab, sedangkan aids adalah tahap akhir dari infeksi yang ditandai dengan hiv, yang dapat masuk ke dalam memprediksi jalannya infeksi dan menyesuaikan pengobatan secara personal.  hiv untuk sistem kekebalan tubuh.   hiv.  sel\n",
            "Anda: pasien hiv\n",
            "Bot: pasien hiv dapat menyebar melalui hubungan seksual dari ibu ke layanan kesehatan, dengan pendekatan berbasis sains dan meningkatkan risiko penularan ke layanan kesehatan, terutama bagi odha dapat memasuki sel.  hiv untuk sistem kekebalan tubuh.  teknologi layanan kesehatan\n",
            "Anda: pengobatan hiv\n",
            "Bot: hiv dapat menyebar melalui hubungan seksual dari pria ke dalam tubuh untuk sistem imun yang dapat sistem kekebalan tubuh.   sel yang terinfeksi. sistem kekebalan tubuh.  hiv untuk sistem kekebalan tubuh.\n",
            "Anda: bagaimana caranya pengobatan hiv?\n",
            "Bot: edukasi membantu menyebarkan informasi tentang risiko hiv, cara pencegahan, pengobatan, dan pentingnya menghindari diskriminasi terhadap orang dengan hiv.    agama mungkin menentang pendidikan seks yang dapat menularkan virus hiv untuk sistem kekebalan tubuh.  hiv.  sel\n",
            "Anda: exit\n"
          ]
        }
      ]
    }
  ]
}